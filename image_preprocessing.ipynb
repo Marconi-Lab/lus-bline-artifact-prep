{
  "nbformat": 4,
  "nbformat_minor": 0,
  "metadata": {
    "colab": {
      "provenance": []
    },
    "kernelspec": {
      "name": "python3",
      "display_name": "Python 3"
    },
    "language_info": {
      "name": "python"
    }
  },
  "cells": [
    {
      "cell_type": "code",
      "execution_count": null,
      "metadata": {
        "id": "ZDhXf3Tsg9rH"
      },
      "outputs": [],
      "source": [
        "# Install keras_ocr\n",
        "!pip install keras-ocr"
      ]
    },
    {
      "cell_type": "code",
      "source": [
        "# imports\n",
        "import keras_ocr\n",
        "import cv2\n",
        "import numpy as np\n",
        "import matplotlib.pyplot as plt\n",
        "import math\n",
        "import os\n",
        "import glob\n",
        "import matplotlib.image as mpimg\n",
        "from collections import Counter"
      ],
      "metadata": {
        "id": "QceIr1TBhOBc"
      },
      "execution_count": null,
      "outputs": []
    },
    {
      "cell_type": "code",
      "source": [
        "#This function is for cropping out the LUS measurement scales. It crops RoI\n",
        "def crop_image(img):\n",
        "    gray = cv2.cvtColor(img, cv2.COLOR_BGR2GRAY) # Convert image to grayscale\n",
        "\n",
        "    ret, thresh = cv2.threshold(gray, 0, 255, cv2.THRESH_BINARY + cv2.THRESH_OTSU)\n",
        "\n",
        "    close_kernel = cv2.getStructuringElement(cv2.MORPH_RECT, (2,2))\n",
        "    close = cv2.morphologyEx(gray.astype(np.uint8), cv2.MORPH_CLOSE, close_kernel, iterations=1)\n",
        "\n",
        "    dilate_kernel = cv2.getStructuringElement(cv2.MORPH_RECT, (2,2))\n",
        "    dilate = cv2.dilate(close, dilate_kernel, iterations=1)\n",
        "\n",
        "    cnts,_ = cv2.findContours(dilate.astype(np.uint8), cv2.RETR_EXTERNAL, cv2.CHAIN_APPROX_SIMPLE)\n",
        "    # mask=np.zeros_like(gray)\n",
        "    areas =list()\n",
        "    for c in cnts:\n",
        "        area = cv2.contourArea(c)\n",
        "        areas.append(area)\n",
        "\n",
        "    c_=cnts[np.argmax(areas)]\n",
        "    x,y,w,h = cv2.boundingRect(c_)\n",
        "    return img[y:y+h,x:x+w]"
      ],
      "metadata": {
        "id": "vRptBr5ZhSfS"
      },
      "execution_count": null,
      "outputs": []
    },
    {
      "cell_type": "code",
      "source": [
        "# This function removes the text labels on the image\n",
        "def midpoint(x1, y1, x2, y2):\n",
        "    x_mid = int((x1 + x2)/2)\n",
        "    y_mid = int((y1 + y2)/2)\n",
        "    return (x_mid, y_mid)\n",
        "\n",
        "def inpaint_text(img, pipeline):\n",
        "    prediction_groups = pipeline.recognize([img])\n",
        "    mask = np.zeros(img.shape[:2], dtype=\"uint8\")\n",
        "    for box in prediction_groups[0]:\n",
        "        x0, y0 = box[1][0]\n",
        "        x1, y1 = box[1][1]\n",
        "        x2, y2 = box[1][2]\n",
        "        x3, y3 = box[1][3]\n",
        "\n",
        "        x_mid0, y_mid0 = midpoint(x1, y1, x2, y2)\n",
        "        x_mid1, y_mi1 = midpoint(x0, y0, x3, y3)\n",
        "\n",
        "        thickness = int(math.sqrt( (x2 - x1)**2 + (y2 - y1)**2 ))\n",
        "\n",
        "        cv2.line(mask, (x_mid0, y_mid0), (x_mid1, y_mi1), 255,\n",
        "        thickness)\n",
        "        img = cv2.inpaint(img, mask, 2, cv2.INPAINT_TELEA)\n",
        "\n",
        "    return(img)"
      ],
      "metadata": {
        "id": "fdS6hZw7h1dC"
      },
      "execution_count": null,
      "outputs": []
    },
    {
      "cell_type": "code",
      "source": [
        "# This function removes letter P on the image\n",
        "def inpaint_P(img):\n",
        "    img = np.array(img)\n",
        "    gray = cv2.cvtColor(img, cv2.COLOR_RGB2GRAY)\n",
        "\n",
        "    ret, thresh = cv2.threshold(gray.astype('uint8'), 0, 255, cv2.THRESH_BINARY + cv2.THRESH_OTSU)\n",
        "\n",
        "    close_kernel = cv2.getStructuringElement(cv2.MORPH_RECT, (5,5))\n",
        "    close = cv2.morphologyEx(gray.astype(np.uint8), cv2.MORPH_CLOSE, close_kernel, iterations=1)\n",
        "\n",
        "    dilate_kernel = cv2.getStructuringElement(cv2.MORPH_RECT, (5,5))\n",
        "    dilate = cv2.dilate(close, dilate_kernel, iterations=1)\n",
        "\n",
        "    cnts,_ = cv2.findContours(dilate, cv2.RETR_EXTERNAL, cv2.CHAIN_APPROX_SIMPLE)\n",
        "\n",
        "    areas =list()\n",
        "    for c in cnts:\n",
        "        area = cv2.contourArea(c)\n",
        "        x,y,w,h = cv2.boundingRect(c)\n",
        "        if area>800 and area<900:\n",
        "            x,y,w,h = cv2.boundingRect(c)\n",
        "            img[y:y+h,x:x+w]=0\n",
        "    return img"
      ],
      "metadata": {
        "id": "ERan3MoOiE0K"
      },
      "execution_count": null,
      "outputs": []
    },
    {
      "cell_type": "code",
      "source": [
        "# This function removes the white dots in a straight line\n",
        "def inpaint_dots(img):\n",
        "    lab = cv2.cvtColor(img, cv2.COLOR_RGB2LAB)\n",
        "    thresholded = np.logical_and(*[lab[..., i] > t for i, t in enumerate([200, 0, 0])])\n",
        "    thresholded=thresholded.astype('uint8')*255\n",
        "    close_kernel = cv2.getStructuringElement(cv2.MORPH_RECT, (5,5))\n",
        "    close = cv2.morphologyEx(thresholded.astype(np.uint8), cv2.MORPH_CLOSE, close_kernel, iterations=1)\n",
        "    dilate_kernel = cv2.getStructuringElement(cv2.MORPH_RECT, (8,8))\n",
        "    dilate = cv2.dilate(close, dilate_kernel, iterations=1)\n",
        "    mask=np.zeros((img.shape[:-1]))\n",
        "    cnts,_ = cv2.findContours(dilate.astype(np.uint8), cv2.RETR_EXTERNAL, cv2.CHAIN_APPROX_SIMPLE)\n",
        "\n",
        "    listx=[]\n",
        "    listy=[]\n",
        "    listw=[]\n",
        "    listh=[]\n",
        "    for cnt in cnts:\n",
        "        x,y,w,h = cv2.boundingRect(cnt)\n",
        "        listx.append(x)\n",
        "        listy.append(y)\n",
        "        listw.append(w)\n",
        "        listh.append(h)\n",
        "\n",
        "    roundedx=np.floor(np.array(listx)/10)*10\n",
        "    counts=Counter(roundedx)\n",
        "    indxs=np.where(roundedx==counts.most_common()[0][0])[0]\n",
        "    listx=np.array(listx)[indxs]\n",
        "    listy=np.array(listy)[indxs]\n",
        "    listw=np.array(listw)[indxs]\n",
        "    listh=np.array(listh)[indxs]\n",
        "\n",
        "    if len(listx)>8: #### the circles are the majority\n",
        "        for x_,y_,w_,h_ in zip(listx,listy,listw,listh):\n",
        "            mask[y_:y_+h_,x_:x_+w_]=255\n",
        "        img=cv2.inpaint(img.astype('uint8'),mask.astype('uint8'),4,cv2.INPAINT_TELEA)\n",
        "    return img"
      ],
      "metadata": {
        "id": "L9Ui7OLRkJbj"
      },
      "execution_count": null,
      "outputs": []
    },
    {
      "cell_type": "code",
      "source": [
        "# Function call\n",
        "pipeline = keras_ocr.pipeline.Pipeline()\n",
        "preprocessed_image =inpaint_text(inpaint_dots(inpaint_P(crop_image(orig_image))),pipeline)"
      ],
      "metadata": {
        "id": "zV38sEDjjElx"
      },
      "execution_count": null,
      "outputs": []
    }
  ]
}